{
 "cells": [
  {
   "cell_type": "code",
   "execution_count": null,
   "id": "70f9890a",
   "metadata": {},
   "outputs": [],
   "source": [
    "# Decision Tree, Naive Bayes, KNN, Random Forest, SVM"
   ]
  },
  {
   "cell_type": "code",
   "execution_count": 111,
   "id": "2f8d33c4",
   "metadata": {},
   "outputs": [],
   "source": [
    "import pandas as pd\n",
    "import numpy as np\n",
    "from sklearn.datasets import make_classification\n",
    "\n",
    "from sklearn.model_selection import train_test_split\n",
    "from sklearn.model_selection import cross_val_score\n",
    "\n",
    "from sklearn import tree\n",
    "from sklearn.naive_bayes import GaussianNB\n",
    "from sklearn.neighbors import KNeighborsClassifier\n",
    "from sklearn.ensemble import RandomForestClassifier\n",
    "from sklearn import svm"
   ]
  },
  {
   "cell_type": "code",
   "execution_count": 12,
   "id": "a5aa0809",
   "metadata": {},
   "outputs": [
    {
     "data": {
      "text/html": [
       "<div>\n",
       "<style scoped>\n",
       "    .dataframe tbody tr th:only-of-type {\n",
       "        vertical-align: middle;\n",
       "    }\n",
       "\n",
       "    .dataframe tbody tr th {\n",
       "        vertical-align: top;\n",
       "    }\n",
       "\n",
       "    .dataframe thead th {\n",
       "        text-align: right;\n",
       "    }\n",
       "</style>\n",
       "<table border=\"1\" class=\"dataframe\">\n",
       "  <thead>\n",
       "    <tr style=\"text-align: right;\">\n",
       "      <th></th>\n",
       "      <th>0</th>\n",
       "      <th>1</th>\n",
       "      <th>2</th>\n",
       "      <th>3</th>\n",
       "      <th>4</th>\n",
       "      <th>5</th>\n",
       "      <th>6</th>\n",
       "      <th>7</th>\n",
       "      <th>8</th>\n",
       "      <th>9</th>\n",
       "      <th>...</th>\n",
       "      <th>11</th>\n",
       "      <th>12</th>\n",
       "      <th>13</th>\n",
       "      <th>14</th>\n",
       "      <th>15</th>\n",
       "      <th>16</th>\n",
       "      <th>17</th>\n",
       "      <th>18</th>\n",
       "      <th>19</th>\n",
       "      <th>0</th>\n",
       "    </tr>\n",
       "  </thead>\n",
       "  <tbody>\n",
       "    <tr>\n",
       "      <th>7912</th>\n",
       "      <td>-1.017350</td>\n",
       "      <td>1.264799</td>\n",
       "      <td>0.042048</td>\n",
       "      <td>1.957930</td>\n",
       "      <td>-0.154304</td>\n",
       "      <td>-0.672358</td>\n",
       "      <td>1.706163</td>\n",
       "      <td>-1.423933</td>\n",
       "      <td>-0.513360</td>\n",
       "      <td>0.402095</td>\n",
       "      <td>...</td>\n",
       "      <td>-0.823160</td>\n",
       "      <td>1.405870</td>\n",
       "      <td>2.361054</td>\n",
       "      <td>-0.146502</td>\n",
       "      <td>2.146226</td>\n",
       "      <td>-0.328618</td>\n",
       "      <td>0.476696</td>\n",
       "      <td>-0.497087</td>\n",
       "      <td>0.291388</td>\n",
       "      <td>4</td>\n",
       "    </tr>\n",
       "    <tr>\n",
       "      <th>2263</th>\n",
       "      <td>0.058701</td>\n",
       "      <td>-2.065686</td>\n",
       "      <td>-0.821625</td>\n",
       "      <td>0.959627</td>\n",
       "      <td>-0.522650</td>\n",
       "      <td>-0.248494</td>\n",
       "      <td>-0.468422</td>\n",
       "      <td>-0.005838</td>\n",
       "      <td>-1.446076</td>\n",
       "      <td>0.819771</td>\n",
       "      <td>...</td>\n",
       "      <td>0.417630</td>\n",
       "      <td>1.019601</td>\n",
       "      <td>-2.209392</td>\n",
       "      <td>-1.417315</td>\n",
       "      <td>1.033781</td>\n",
       "      <td>-0.421520</td>\n",
       "      <td>0.608532</td>\n",
       "      <td>0.051176</td>\n",
       "      <td>-0.384724</td>\n",
       "      <td>1</td>\n",
       "    </tr>\n",
       "    <tr>\n",
       "      <th>9895</th>\n",
       "      <td>0.337669</td>\n",
       "      <td>0.156268</td>\n",
       "      <td>-0.785709</td>\n",
       "      <td>-0.765458</td>\n",
       "      <td>-0.128950</td>\n",
       "      <td>-0.071488</td>\n",
       "      <td>0.507331</td>\n",
       "      <td>-1.208620</td>\n",
       "      <td>2.083375</td>\n",
       "      <td>-1.055041</td>\n",
       "      <td>...</td>\n",
       "      <td>-0.095264</td>\n",
       "      <td>1.536710</td>\n",
       "      <td>-1.208077</td>\n",
       "      <td>1.573337</td>\n",
       "      <td>-0.733992</td>\n",
       "      <td>0.364376</td>\n",
       "      <td>-0.335961</td>\n",
       "      <td>0.152225</td>\n",
       "      <td>-0.705159</td>\n",
       "      <td>3</td>\n",
       "    </tr>\n",
       "    <tr>\n",
       "      <th>1851</th>\n",
       "      <td>-0.523122</td>\n",
       "      <td>0.729949</td>\n",
       "      <td>1.145568</td>\n",
       "      <td>1.098461</td>\n",
       "      <td>-1.441471</td>\n",
       "      <td>-0.878347</td>\n",
       "      <td>1.353927</td>\n",
       "      <td>-1.050419</td>\n",
       "      <td>0.024996</td>\n",
       "      <td>0.657700</td>\n",
       "      <td>...</td>\n",
       "      <td>-0.662189</td>\n",
       "      <td>0.110397</td>\n",
       "      <td>1.749010</td>\n",
       "      <td>0.614187</td>\n",
       "      <td>1.513386</td>\n",
       "      <td>-0.770200</td>\n",
       "      <td>0.451591</td>\n",
       "      <td>-1.345488</td>\n",
       "      <td>0.831735</td>\n",
       "      <td>4</td>\n",
       "    </tr>\n",
       "    <tr>\n",
       "      <th>5948</th>\n",
       "      <td>0.742720</td>\n",
       "      <td>2.310402</td>\n",
       "      <td>-2.599385</td>\n",
       "      <td>0.382667</td>\n",
       "      <td>2.644370</td>\n",
       "      <td>4.687460</td>\n",
       "      <td>0.483633</td>\n",
       "      <td>0.304886</td>\n",
       "      <td>-3.146563</td>\n",
       "      <td>2.305864</td>\n",
       "      <td>...</td>\n",
       "      <td>0.268220</td>\n",
       "      <td>1.895237</td>\n",
       "      <td>1.309626</td>\n",
       "      <td>-5.056108</td>\n",
       "      <td>-0.964556</td>\n",
       "      <td>-0.679060</td>\n",
       "      <td>0.731266</td>\n",
       "      <td>1.655679</td>\n",
       "      <td>-1.030371</td>\n",
       "      <td>4</td>\n",
       "    </tr>\n",
       "  </tbody>\n",
       "</table>\n",
       "<p>5 rows × 21 columns</p>\n",
       "</div>"
      ],
      "text/plain": [
       "            0         1         2         3         4         5         6   \\\n",
       "7912 -1.017350  1.264799  0.042048  1.957930 -0.154304 -0.672358  1.706163   \n",
       "2263  0.058701 -2.065686 -0.821625  0.959627 -0.522650 -0.248494 -0.468422   \n",
       "9895  0.337669  0.156268 -0.785709 -0.765458 -0.128950 -0.071488  0.507331   \n",
       "1851 -0.523122  0.729949  1.145568  1.098461 -1.441471 -0.878347  1.353927   \n",
       "5948  0.742720  2.310402 -2.599385  0.382667  2.644370  4.687460  0.483633   \n",
       "\n",
       "            7         8         9   ...        11        12        13  \\\n",
       "7912 -1.423933 -0.513360  0.402095  ... -0.823160  1.405870  2.361054   \n",
       "2263 -0.005838 -1.446076  0.819771  ...  0.417630  1.019601 -2.209392   \n",
       "9895 -1.208620  2.083375 -1.055041  ... -0.095264  1.536710 -1.208077   \n",
       "1851 -1.050419  0.024996  0.657700  ... -0.662189  0.110397  1.749010   \n",
       "5948  0.304886 -3.146563  2.305864  ...  0.268220  1.895237  1.309626   \n",
       "\n",
       "            14        15        16        17        18        19  0   \n",
       "7912 -0.146502  2.146226 -0.328618  0.476696 -0.497087  0.291388   4  \n",
       "2263 -1.417315  1.033781 -0.421520  0.608532  0.051176 -0.384724   1  \n",
       "9895  1.573337 -0.733992  0.364376 -0.335961  0.152225 -0.705159   3  \n",
       "1851  0.614187  1.513386 -0.770200  0.451591 -1.345488  0.831735   4  \n",
       "5948 -5.056108 -0.964556 -0.679060  0.731266  1.655679 -1.030371   4  \n",
       "\n",
       "[5 rows x 21 columns]"
      ]
     },
     "execution_count": 12,
     "metadata": {},
     "output_type": "execute_result"
    }
   ],
   "source": [
    "X, y = make_classification(\n",
    "    n_samples=10000, \n",
    "    n_features=20,\n",
    "    n_informative=4,\n",
    "    n_classes=5,\n",
    "    flip_y=0.15,\n",
    "    weights=[0.05, 0.1, 0.15, 0.20, 0.5],\n",
    "    random_state=42\n",
    ")\n",
    "\n",
    "df = pd.concat([pd.DataFrame(X), pd.Series(y)], axis=1)\n",
    "\n",
    "df.sample(5)"
   ]
  },
  {
   "cell_type": "code",
   "execution_count": 69,
   "id": "a06b92d2",
   "metadata": {},
   "outputs": [],
   "source": [
    "X_train, X_test, y_train, y_test = train_test_split(X, y, test_size=0.2, random_state=42)"
   ]
  },
  {
   "cell_type": "code",
   "execution_count": null,
   "id": "203c76a1",
   "metadata": {},
   "outputs": [],
   "source": [
    "# Decision Tree"
   ]
  },
  {
   "cell_type": "code",
   "execution_count": 94,
   "id": "eeda01b1",
   "metadata": {},
   "outputs": [],
   "source": [
    "tree = tree.DecisionTreeClassifier(random_state=42)\n",
    "# clf = clf.fit(X_train, y_train)"
   ]
  },
  {
   "cell_type": "code",
   "execution_count": 56,
   "id": "13ef288a",
   "metadata": {},
   "outputs": [],
   "source": [
    "# scores = cross_validate(clf, X, y, scoring='accuracy', cv=10, return_train_score=True)"
   ]
  },
  {
   "cell_type": "code",
   "execution_count": 93,
   "id": "4cad6e9a",
   "metadata": {},
   "outputs": [
    {
     "data": {
      "text/plain": [
       "0.5839999999999999"
      ]
     },
     "execution_count": 93,
     "metadata": {},
     "output_type": "execute_result"
    }
   ],
   "source": [
    "np.mean(cross_val_score(estimator=tree, X=X, y=y, cv=10))"
   ]
  },
  {
   "cell_type": "code",
   "execution_count": null,
   "id": "06ac4b1a",
   "metadata": {},
   "outputs": [],
   "source": [
    "# Naive Bayes"
   ]
  },
  {
   "cell_type": "code",
   "execution_count": 97,
   "id": "34581430",
   "metadata": {},
   "outputs": [],
   "source": [
    "gnb = GaussianNB()"
   ]
  },
  {
   "cell_type": "code",
   "execution_count": 102,
   "id": "d4b182d7",
   "metadata": {},
   "outputs": [
    {
     "data": {
      "text/plain": [
       "0.6077"
      ]
     },
     "execution_count": 102,
     "metadata": {},
     "output_type": "execute_result"
    }
   ],
   "source": [
    "np.mean(cross_val_score(estimator=gnb, X=X, y=y, cv=10))"
   ]
  },
  {
   "cell_type": "code",
   "execution_count": null,
   "id": "cf508271",
   "metadata": {},
   "outputs": [],
   "source": [
    "# KNN"
   ]
  },
  {
   "cell_type": "code",
   "execution_count": 104,
   "id": "35e649bc",
   "metadata": {},
   "outputs": [],
   "source": [
    "neigh = KNeighborsClassifier()"
   ]
  },
  {
   "cell_type": "code",
   "execution_count": 106,
   "id": "4aa0ffd1",
   "metadata": {},
   "outputs": [
    {
     "data": {
      "text/plain": [
       "0.6089"
      ]
     },
     "execution_count": 106,
     "metadata": {},
     "output_type": "execute_result"
    }
   ],
   "source": [
    "np.mean(cross_val_score(estimator=neigh, X=X, y=y, cv=10))"
   ]
  },
  {
   "cell_type": "code",
   "execution_count": null,
   "id": "21d20419",
   "metadata": {},
   "outputs": [],
   "source": [
    "# Random Forest"
   ]
  },
  {
   "cell_type": "code",
   "execution_count": 108,
   "id": "ebccf352",
   "metadata": {},
   "outputs": [],
   "source": [
    "forest = RandomForestClassifier(random_state=42)"
   ]
  },
  {
   "cell_type": "code",
   "execution_count": 109,
   "id": "bf804309",
   "metadata": {},
   "outputs": [
    {
     "data": {
      "text/plain": [
       "0.7263999999999999"
      ]
     },
     "execution_count": 109,
     "metadata": {},
     "output_type": "execute_result"
    }
   ],
   "source": [
    "np.mean(cross_val_score(estimator=forest, X=X, y=y, cv=10))"
   ]
  },
  {
   "cell_type": "code",
   "execution_count": null,
   "id": "832e0a5f",
   "metadata": {},
   "outputs": [],
   "source": [
    "# SVM"
   ]
  },
  {
   "cell_type": "code",
   "execution_count": 113,
   "id": "9518da82",
   "metadata": {},
   "outputs": [],
   "source": [
    "SVM = svm.SVC(random_state=42)"
   ]
  },
  {
   "cell_type": "code",
   "execution_count": 114,
   "id": "0eaacda4",
   "metadata": {},
   "outputs": [
    {
     "data": {
      "text/plain": [
       "0.6957"
      ]
     },
     "execution_count": 114,
     "metadata": {},
     "output_type": "execute_result"
    }
   ],
   "source": [
    "np.mean(cross_val_score(estimator=SVM, X=X, y=y, cv=10))"
   ]
  }
 ],
 "metadata": {
  "kernelspec": {
   "display_name": "Python 3 (ipykernel)",
   "language": "python",
   "name": "python3"
  },
  "language_info": {
   "codemirror_mode": {
    "name": "ipython",
    "version": 3
   },
   "file_extension": ".py",
   "mimetype": "text/x-python",
   "name": "python",
   "nbconvert_exporter": "python",
   "pygments_lexer": "ipython3",
   "version": "3.8.10"
  }
 },
 "nbformat": 4,
 "nbformat_minor": 5
}
